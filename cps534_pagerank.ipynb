{
  "nbformat": 4,
  "nbformat_minor": 0,
  "metadata": {
    "colab": {
      "provenance": []
    },
    "kernelspec": {
      "name": "python3",
      "display_name": "Python 3"
    },
    "language_info": {
      "name": "python"
    }
  },
  "cells": [
    {
      "cell_type": "markdown",
      "source": [
        "PageRank Algorithin PySpark Implementation\n",
        "Submitted by -\n",
        "Kriti Sharma,\n",
        "Parvati Balulmath,\n",
        "Vishnu Charan Golugula\n"
      ],
      "metadata": {
        "id": "b4iBtBYSkpc2"
      }
    },
    {
      "cell_type": "code",
      "execution_count": 59,
      "metadata": {
        "colab": {
          "base_uri": "https://localhost:8080/"
        },
        "id": "X5jTPoxzkgOC",
        "outputId": "4994ca85-99a2-4fde-85b0-783891335b9e"
      },
      "outputs": [
        {
          "output_type": "stream",
          "name": "stdout",
          "text": [
            "Requirement already satisfied: pyspark in /usr/local/lib/python3.10/dist-packages (3.4.1)\n",
            "Requirement already satisfied: py4j==0.10.9.7 in /usr/local/lib/python3.10/dist-packages (from pyspark) (0.10.9.7)\n"
          ]
        }
      ],
      "source": [
        "#Installing the desired packages and frameworks\n",
        "# Run the below code in order\n",
        "# !sudo apt update\n",
        "!apt-get install openjdk-8-jdk-headless -qq > /dev/null\n",
        "!wget -q https://dlcdn.apache.org/spark/spark-3.3.3/spark-3.3.3-bin-hadoop3.tgz\n",
        "!tar xf spark-3.3.3-bin-hadoop3.tgz\n",
        "!pip install -q findspark\n",
        "!pip install pyspark\n",
        "\n",
        "# spark-3.2.0-bin-hadoop3.2.tgz  # http://archive.apache.org/dist/spark/"
      ]
    },
    {
      "cell_type": "code",
      "source": [
        "# Importing Os environment\n",
        "import os\n",
        "os.environ[\"JAVA_HOME\"] = \"/usr/lib/jvm/java-8-openjdk-amd64\"\n",
        "os.environ[\"SPARK_HOME\"] = \"/content/spark-3.3.3-bin-hadoop3\""
      ],
      "metadata": {
        "id": "4KlMYFBnlR5-"
      },
      "execution_count": 60,
      "outputs": []
    },
    {
      "cell_type": "code",
      "source": [
        "# importing python/pyspark modules to use them later in the functions,\n",
        "#it is important to import modules to use there predined functions in the code\n",
        "import findspark\n",
        "findspark.init()\n",
        "from pyspark import SparkContext\n",
        "from google.colab import files\n",
        "import numpy as np"
      ],
      "metadata": {
        "id": "yxItqMWzlbeL"
      },
      "execution_count": 61,
      "outputs": []
    },
    {
      "cell_type": "code",
      "source": [
        "# upload the input file\n",
        "files.upload()"
      ],
      "metadata": {
        "colab": {
          "base_uri": "https://localhost:8080/",
          "height": 92
        },
        "id": "i_6XkA0smxDm",
        "outputId": "053222e6-d1cc-47dd-bd47-6aa86f991867"
      },
      "execution_count": 62,
      "outputs": [
        {
          "output_type": "display_data",
          "data": {
            "text/plain": [
              "<IPython.core.display.HTML object>"
            ],
            "text/html": [
              "\n",
              "     <input type=\"file\" id=\"files-d3778e49-f610-442d-ad58-43bb2d493b83\" name=\"files[]\" multiple disabled\n",
              "        style=\"border:none\" />\n",
              "     <output id=\"result-d3778e49-f610-442d-ad58-43bb2d493b83\">\n",
              "      Upload widget is only available when the cell has been executed in the\n",
              "      current browser session. Please rerun this cell to enable.\n",
              "      </output>\n",
              "      <script>// Copyright 2017 Google LLC\n",
              "//\n",
              "// Licensed under the Apache License, Version 2.0 (the \"License\");\n",
              "// you may not use this file except in compliance with the License.\n",
              "// You may obtain a copy of the License at\n",
              "//\n",
              "//      http://www.apache.org/licenses/LICENSE-2.0\n",
              "//\n",
              "// Unless required by applicable law or agreed to in writing, software\n",
              "// distributed under the License is distributed on an \"AS IS\" BASIS,\n",
              "// WITHOUT WARRANTIES OR CONDITIONS OF ANY KIND, either express or implied.\n",
              "// See the License for the specific language governing permissions and\n",
              "// limitations under the License.\n",
              "\n",
              "/**\n",
              " * @fileoverview Helpers for google.colab Python module.\n",
              " */\n",
              "(function(scope) {\n",
              "function span(text, styleAttributes = {}) {\n",
              "  const element = document.createElement('span');\n",
              "  element.textContent = text;\n",
              "  for (const key of Object.keys(styleAttributes)) {\n",
              "    element.style[key] = styleAttributes[key];\n",
              "  }\n",
              "  return element;\n",
              "}\n",
              "\n",
              "// Max number of bytes which will be uploaded at a time.\n",
              "const MAX_PAYLOAD_SIZE = 100 * 1024;\n",
              "\n",
              "function _uploadFiles(inputId, outputId) {\n",
              "  const steps = uploadFilesStep(inputId, outputId);\n",
              "  const outputElement = document.getElementById(outputId);\n",
              "  // Cache steps on the outputElement to make it available for the next call\n",
              "  // to uploadFilesContinue from Python.\n",
              "  outputElement.steps = steps;\n",
              "\n",
              "  return _uploadFilesContinue(outputId);\n",
              "}\n",
              "\n",
              "// This is roughly an async generator (not supported in the browser yet),\n",
              "// where there are multiple asynchronous steps and the Python side is going\n",
              "// to poll for completion of each step.\n",
              "// This uses a Promise to block the python side on completion of each step,\n",
              "// then passes the result of the previous step as the input to the next step.\n",
              "function _uploadFilesContinue(outputId) {\n",
              "  const outputElement = document.getElementById(outputId);\n",
              "  const steps = outputElement.steps;\n",
              "\n",
              "  const next = steps.next(outputElement.lastPromiseValue);\n",
              "  return Promise.resolve(next.value.promise).then((value) => {\n",
              "    // Cache the last promise value to make it available to the next\n",
              "    // step of the generator.\n",
              "    outputElement.lastPromiseValue = value;\n",
              "    return next.value.response;\n",
              "  });\n",
              "}\n",
              "\n",
              "/**\n",
              " * Generator function which is called between each async step of the upload\n",
              " * process.\n",
              " * @param {string} inputId Element ID of the input file picker element.\n",
              " * @param {string} outputId Element ID of the output display.\n",
              " * @return {!Iterable<!Object>} Iterable of next steps.\n",
              " */\n",
              "function* uploadFilesStep(inputId, outputId) {\n",
              "  const inputElement = document.getElementById(inputId);\n",
              "  inputElement.disabled = false;\n",
              "\n",
              "  const outputElement = document.getElementById(outputId);\n",
              "  outputElement.innerHTML = '';\n",
              "\n",
              "  const pickedPromise = new Promise((resolve) => {\n",
              "    inputElement.addEventListener('change', (e) => {\n",
              "      resolve(e.target.files);\n",
              "    });\n",
              "  });\n",
              "\n",
              "  const cancel = document.createElement('button');\n",
              "  inputElement.parentElement.appendChild(cancel);\n",
              "  cancel.textContent = 'Cancel upload';\n",
              "  const cancelPromise = new Promise((resolve) => {\n",
              "    cancel.onclick = () => {\n",
              "      resolve(null);\n",
              "    };\n",
              "  });\n",
              "\n",
              "  // Wait for the user to pick the files.\n",
              "  const files = yield {\n",
              "    promise: Promise.race([pickedPromise, cancelPromise]),\n",
              "    response: {\n",
              "      action: 'starting',\n",
              "    }\n",
              "  };\n",
              "\n",
              "  cancel.remove();\n",
              "\n",
              "  // Disable the input element since further picks are not allowed.\n",
              "  inputElement.disabled = true;\n",
              "\n",
              "  if (!files) {\n",
              "    return {\n",
              "      response: {\n",
              "        action: 'complete',\n",
              "      }\n",
              "    };\n",
              "  }\n",
              "\n",
              "  for (const file of files) {\n",
              "    const li = document.createElement('li');\n",
              "    li.append(span(file.name, {fontWeight: 'bold'}));\n",
              "    li.append(span(\n",
              "        `(${file.type || 'n/a'}) - ${file.size} bytes, ` +\n",
              "        `last modified: ${\n",
              "            file.lastModifiedDate ? file.lastModifiedDate.toLocaleDateString() :\n",
              "                                    'n/a'} - `));\n",
              "    const percent = span('0% done');\n",
              "    li.appendChild(percent);\n",
              "\n",
              "    outputElement.appendChild(li);\n",
              "\n",
              "    const fileDataPromise = new Promise((resolve) => {\n",
              "      const reader = new FileReader();\n",
              "      reader.onload = (e) => {\n",
              "        resolve(e.target.result);\n",
              "      };\n",
              "      reader.readAsArrayBuffer(file);\n",
              "    });\n",
              "    // Wait for the data to be ready.\n",
              "    let fileData = yield {\n",
              "      promise: fileDataPromise,\n",
              "      response: {\n",
              "        action: 'continue',\n",
              "      }\n",
              "    };\n",
              "\n",
              "    // Use a chunked sending to avoid message size limits. See b/62115660.\n",
              "    let position = 0;\n",
              "    do {\n",
              "      const length = Math.min(fileData.byteLength - position, MAX_PAYLOAD_SIZE);\n",
              "      const chunk = new Uint8Array(fileData, position, length);\n",
              "      position += length;\n",
              "\n",
              "      const base64 = btoa(String.fromCharCode.apply(null, chunk));\n",
              "      yield {\n",
              "        response: {\n",
              "          action: 'append',\n",
              "          file: file.name,\n",
              "          data: base64,\n",
              "        },\n",
              "      };\n",
              "\n",
              "      let percentDone = fileData.byteLength === 0 ?\n",
              "          100 :\n",
              "          Math.round((position / fileData.byteLength) * 100);\n",
              "      percent.textContent = `${percentDone}% done`;\n",
              "\n",
              "    } while (position < fileData.byteLength);\n",
              "  }\n",
              "\n",
              "  // All done.\n",
              "  yield {\n",
              "    response: {\n",
              "      action: 'complete',\n",
              "    }\n",
              "  };\n",
              "}\n",
              "\n",
              "scope.google = scope.google || {};\n",
              "scope.google.colab = scope.google.colab || {};\n",
              "scope.google.colab._files = {\n",
              "  _uploadFiles,\n",
              "  _uploadFilesContinue,\n",
              "};\n",
              "})(self);\n",
              "</script> "
            ]
          },
          "metadata": {}
        },
        {
          "output_type": "stream",
          "name": "stdout",
          "text": [
            "Saving nodes_input to nodes_input (2)\n"
          ]
        },
        {
          "output_type": "execute_result",
          "data": {
            "text/plain": [
              "{'nodes_input (2)': b'n1 n2 n4\\nn2 n3 n5\\nn3 n4\\nn4 n5\\nn5 n1 n2 n3'}"
            ]
          },
          "metadata": {},
          "execution_count": 62
        }
      ]
    },
    {
      "cell_type": "code",
      "source": [
        "# it initializes the spark environment\n",
        "sc = SparkContext.getOrCreate()\n",
        "\n",
        "rdd0 = sc.textFile(\"nodes_input\")  # create rdd by using sc.textFile to read the content # the way to input the file may vary depening on the OS used\n",
        "print(rdd0.collect())"
      ],
      "metadata": {
        "colab": {
          "base_uri": "https://localhost:8080/"
        },
        "id": "l7KS1SHonaCZ",
        "outputId": "17caeaf5-5b58-4e48-96b9-26556642a33f"
      },
      "execution_count": 64,
      "outputs": [
        {
          "output_type": "stream",
          "name": "stdout",
          "text": [
            "['n1 n2 n4', 'n2 n3 n5', 'n3 n4', 'n4 n5', 'n5 n1 n2 n3']\n"
          ]
        }
      ]
    },
    {
      "cell_type": "code",
      "source": [
        "# The below function is to parse the each line of the text file , it spilts by a space\n",
        "def parseline(line):\n",
        "    lineList = line.split(' ')\n",
        "    return (lineList[0], lineList[1:]) # it returns in the form of (nodeId , itsneighbors)"
      ],
      "metadata": {
        "id": "QPjHyF2Gn_VG"
      },
      "execution_count": 65,
      "outputs": []
    },
    {
      "cell_type": "code",
      "source": [
        "linkRDD = rdd0.map(parseline) # using map function to create a key value pairs"
      ],
      "metadata": {
        "id": "QvkN1kEHn7Yh"
      },
      "execution_count": 66,
      "outputs": []
    },
    {
      "cell_type": "code",
      "source": [
        "# count the number of nodes in the rdd and grant the initial pageranks to each node\n",
        "num = linkRDD.count()\n",
        "init_rank = 1.0 / num"
      ],
      "metadata": {
        "id": "DALFeD90oeZ_"
      },
      "execution_count": 67,
      "outputs": []
    },
    {
      "cell_type": "code",
      "source": [
        "# use the map fuction to create pagerankRDD\n",
        "pagerankRDD = linkRDD.map(lambda x: (x[0], init_rank))\n",
        "prev_prRDD = pagerankRDD"
      ],
      "metadata": {
        "id": "A6jbSd7loz4-"
      },
      "execution_count": 68,
      "outputs": []
    },
    {
      "cell_type": "code",
      "source": [
        "# the below function is to update the pagerank value , adding the dangling node mass with it\n",
        "def updatePagerank(pagerankRDD, dangling_node_m, num):\n",
        "    delta = dangling_node_m / num\n",
        "    updated_pagerankRDD = (\n",
        "        pagerankRDD.mapValues(lambda pr: 0)  # setting PageRank to 0\n",
        "        .union(pagerankRDD.join(linkRDD).flatMap(lambda x: [(end_node, x[1][0] / len(x[1][1])) for end_node in x[1][1]])).reduceByKey(lambda a, b: a + b).mapValues(lambda pr: pr + delta))\n",
        "    return updated_pagerankRDD"
      ],
      "metadata": {
        "id": "TiQVpPRYrJpn"
      },
      "execution_count": 69,
      "outputs": []
    },
    {
      "cell_type": "code",
      "source": [
        "# The below function calculates the overall Pagerank mass contributed by the dangling nodes in the graph\n",
        "def dangling_nodemass(linkRDD, pagerankRDD):\n",
        "    dangling_node_m = (\n",
        "        linkRDD.filter(lambda x: len(x[1]) == 0).join(pagerankRDD).map(lambda x: x[1][1]).sum())\n",
        "    return dangling_node_m"
      ],
      "metadata": {
        "id": "Jlx_lkQEpSHy"
      },
      "execution_count": 70,
      "outputs": []
    },
    {
      "cell_type": "code",
      "source": [
        "# The below is the main fucntion that call the each and every function to calcuate the final page rank vale and handle the dangling nodes mass\n",
        "# initializing the values\n",
        "max_loop_end_condition = 100\n",
        "tolerance = 0.1\n",
        "converge = float('inf')\n",
        "\n",
        "for i in range(max_loop_end_condition):\n",
        "    # dangling node mass\n",
        "    dangling_node_m = dangling_nodemass(linkRDD, pagerankRDD)\n",
        "    # updating pagerankRDD\n",
        "    updated_pagerankRDD = updatePagerank(pagerankRDD, dangling_node_m, num)\n",
        "\n",
        "    updated_convergence = (pagerankRDD.join(updated_pagerankRDD).mapValues(lambda x: np.abs(x[0] - x[1])).values().sum())\n",
        "\n",
        "    pagerank_values = pagerankRDD.collect() # to print the prevpage rank values\n",
        "    print(f\"Iteration {i + 1}: Convergence = {updated_convergence}\")\n",
        "    print(\"--------------------------------------------------------\")\n",
        "    print(\"Previous PageRank:\")\n",
        "    print(prev_prRDD.collect())\n",
        "\n",
        "    print(\"Current PageRank:\")\n",
        "    for n, pr in pagerank_values: # loop to print the current pagerank\n",
        "        print(f\"{n}: {pr}\")\n",
        "\n",
        "    # Check convergence\n",
        "    if updated_convergence < tolerance: # if the\n",
        "        converge = updated_convergence\n",
        "        break\n",
        "\n",
        "    prev_prRDD = pagerankRDD\n",
        "    pagerankRDD = updated_pagerankRDD\n",
        "\n",
        "pagerank_values = pagerankRDD.collect()\n",
        "print(\"Final Pagerank:\")\n",
        "print(pagerank_values)"
      ],
      "metadata": {
        "colab": {
          "base_uri": "https://localhost:8080/"
        },
        "id": "GPvi3qRUtIwT",
        "outputId": "ae278b62-618d-4b94-b440-9063d05cdf5c"
      },
      "execution_count": 71,
      "outputs": [
        {
          "output_type": "stream",
          "name": "stdout",
          "text": [
            "Iteration 1: Convergence = 0.4000000000000001\n",
            "--------------------------------------------------------\n",
            "Previous PageRank:\n",
            "[('n1', 0.2), ('n2', 0.2), ('n3', 0.2), ('n4', 0.2), ('n5', 0.2)]\n",
            "Current PageRank:\n",
            "n1: 0.2\n",
            "n2: 0.2\n",
            "n3: 0.2\n",
            "n4: 0.2\n",
            "n5: 0.2\n",
            "Iteration 2: Convergence = 0.2666666666666667\n",
            "--------------------------------------------------------\n",
            "Previous PageRank:\n",
            "[('n1', 0.2), ('n2', 0.2), ('n3', 0.2), ('n4', 0.2), ('n5', 0.2)]\n",
            "Current PageRank:\n",
            "n4: 0.30000000000000004\n",
            "n3: 0.16666666666666669\n",
            "n1: 0.06666666666666667\n",
            "n2: 0.16666666666666669\n",
            "n5: 0.30000000000000004\n",
            "Iteration 3: Convergence = 0.2333333333333334\n",
            "--------------------------------------------------------\n",
            "Previous PageRank:\n",
            "[('n4', 0.30000000000000004), ('n3', 0.16666666666666669), ('n1', 0.06666666666666667), ('n2', 0.16666666666666669), ('n5', 0.30000000000000004)]\n",
            "Current PageRank:\n",
            "n3: 0.18333333333333335\n",
            "n4: 0.2\n",
            "n5: 0.3833333333333334\n",
            "n2: 0.13333333333333336\n",
            "n1: 0.10000000000000002\n",
            "Iteration 4: Convergence = 0.16111111111111115\n",
            "--------------------------------------------------------\n",
            "Previous PageRank:\n",
            "[('n3', 0.18333333333333335), ('n4', 0.2), ('n5', 0.3833333333333334), ('n2', 0.13333333333333336), ('n1', 0.10000000000000002)]\n",
            "Current PageRank:\n",
            "n3: 0.19444444444444448\n",
            "n2: 0.1777777777777778\n",
            "n4: 0.23333333333333336\n",
            "n1: 0.1277777777777778\n",
            "n5: 0.2666666666666667\n",
            "Iteration 5: Convergence = 0.074074074074074\n",
            "--------------------------------------------------------\n",
            "Previous PageRank:\n",
            "[('n3', 0.19444444444444448), ('n2', 0.1777777777777778), ('n4', 0.23333333333333336), ('n1', 0.1277777777777778), ('n5', 0.2666666666666667)]\n",
            "Current PageRank:\n",
            "n2: 0.1527777777777778\n",
            "n1: 0.0888888888888889\n",
            "n4: 0.25833333333333336\n",
            "n5: 0.3222222222222223\n",
            "n3: 0.1777777777777778\n",
            "Final Pagerank:\n",
            "[('n2', 0.1527777777777778), ('n1', 0.0888888888888889), ('n4', 0.25833333333333336), ('n5', 0.3222222222222223), ('n3', 0.1777777777777778)]\n"
          ]
        }
      ]
    }
  ]
}